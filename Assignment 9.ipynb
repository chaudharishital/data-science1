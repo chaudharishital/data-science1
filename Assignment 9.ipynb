{
 "cells": [
  {
   "cell_type": "markdown",
   "id": "34434055",
   "metadata": {},
   "source": [
    "# 1. To what does a relative path refer?"
   ]
  },
  {
   "cell_type": "markdown",
   "id": "331fd431",
   "metadata": {},
   "source": [
    "Relative path is path of file w.r.t to the current working directory(pwd())"
   ]
  },
  {
   "cell_type": "markdown",
   "id": "c75952ff",
   "metadata": {},
   "source": [
    "# 2. What does an absolute path start with your operating system?"
   ]
  },
  {
   "cell_type": "markdown",
   "id": "e82d624d",
   "metadata": {},
   "source": [
    "absolute path start from root directory(/) with your operating system"
   ]
  },
  {
   "cell_type": "markdown",
   "id": "0890b8d9",
   "metadata": {},
   "source": []
  },
  {
   "cell_type": "markdown",
   "id": "bceed215",
   "metadata": {},
   "source": [
    "# 3. What do the functions os.getcwd() and os.chdir() do?"
   ]
  },
  {
   "cell_type": "code",
   "execution_count": null,
   "id": "aa213b74",
   "metadata": {},
   "outputs": [],
   "source": [
    "os.getcwd() : It will be gives us current working directory location.\n",
    "os.chdir():It will be used to change directory\n",
    "example is given below:"
   ]
  },
  {
   "cell_type": "code",
   "execution_count": 2,
   "id": "cf8f2b4e",
   "metadata": {},
   "outputs": [
    {
     "data": {
      "text/plain": [
       "'C:\\\\Users\\\\Shital'"
      ]
     },
     "execution_count": 2,
     "metadata": {},
     "output_type": "execute_result"
    }
   ],
   "source": [
    "import os\n",
    "pwd=os.getcwd()\n",
    "pwd"
   ]
  },
  {
   "cell_type": "code",
   "execution_count": 12,
   "id": "f755b355",
   "metadata": {},
   "outputs": [],
   "source": [
    "child_directory=os.chdir(r'C:\\\\')\n"
   ]
  },
  {
   "cell_type": "markdown",
   "id": "b57c1ec4",
   "metadata": {},
   "source": [
    "# 4. What are the . and .. folders?"
   ]
  },
  {
   "cell_type": "code",
   "execution_count": null,
   "id": "c1ca6f8e",
   "metadata": {},
   "outputs": [],
   "source": [
    ". represent current directory\n",
    ".. used when we have to backtrack."
   ]
  },
  {
   "cell_type": "markdown",
   "id": "0aaaff62",
   "metadata": {},
   "source": [
    "# 5. In C:\\bacon\\eggs\\spam.txt, which part is the dir name, and which part is the base name?"
   ]
  },
  {
   "cell_type": "code",
   "execution_count": null,
   "id": "a1864e63",
   "metadata": {},
   "outputs": [],
   "source": [
    "In C:\\bacon\\eggs\\spam.txt\n",
    "C:\\bacon\\eggs\\ is part of the dir name\n",
    "spam.txt is part of the base name"
   ]
  },
  {
   "cell_type": "markdown",
   "id": "06969463",
   "metadata": {},
   "source": [
    "# 6. What are the three “mode” arguments that can be passed to the open() function?"
   ]
  },
  {
   "cell_type": "code",
   "execution_count": null,
   "id": "6bfaecae",
   "metadata": {},
   "outputs": [],
   "source": [
    "a: append mode\n",
    "w-write mode\n",
    "r-read mode"
   ]
  },
  {
   "cell_type": "markdown",
   "id": "5e9f8dbb",
   "metadata": {},
   "source": [
    "# 7. What happens if an existing file is opened in write mode?"
   ]
  },
  {
   "cell_type": "markdown",
   "id": "5740e34e",
   "metadata": {},
   "source": [
    " if an existing file is opened in write mode then it will be overwrite by new content"
   ]
  },
  {
   "cell_type": "markdown",
   "id": "5b6237d0",
   "metadata": {},
   "source": [
    "# 8. How do you tell the difference between read() and readlines()?"
   ]
  },
  {
   "cell_type": "markdown",
   "id": "34c00ae8",
   "metadata": {},
   "source": [
    "1. read():reads all of the file's contents into a string\n",
    "    \n",
    "2. readlines(): reads just a single line from the file"
   ]
  },
  {
   "cell_type": "markdown",
   "id": "22397473",
   "metadata": {},
   "source": [
    "# 9. What data structure does a shelf value resemble?"
   ]
  },
  {
   "cell_type": "markdown",
   "id": "6bc4a367",
   "metadata": {},
   "source": [
    "A shelf value resembles a dictionary value; it has keys and values, along with keys() and values() methods that work similarly to the dictionary methods of the same names."
   ]
  },
  {
   "cell_type": "code",
   "execution_count": null,
   "id": "778c43f6",
   "metadata": {},
   "outputs": [],
   "source": []
  }
 ],
 "metadata": {
  "kernelspec": {
   "display_name": "Python 3 (ipykernel)",
   "language": "python",
   "name": "python3"
  },
  "language_info": {
   "codemirror_mode": {
    "name": "ipython",
    "version": 3
   },
   "file_extension": ".py",
   "mimetype": "text/x-python",
   "name": "python",
   "nbconvert_exporter": "python",
   "pygments_lexer": "ipython3",
   "version": "3.9.7"
  }
 },
 "nbformat": 4,
 "nbformat_minor": 5
}
