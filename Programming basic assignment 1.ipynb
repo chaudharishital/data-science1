{
 "cells": [
  {
   "cell_type": "markdown",
   "id": "2fb4075e",
   "metadata": {},
   "source": [
    "# 1. Write a Python program to print \"Hello Python\"?"
   ]
  },
  {
   "cell_type": "code",
   "execution_count": 1,
   "id": "b1ff6304",
   "metadata": {},
   "outputs": [
    {
     "name": "stdout",
     "output_type": "stream",
     "text": [
      "Hello Python\n"
     ]
    }
   ],
   "source": [
    "print(\"Hello Python\")"
   ]
  },
  {
   "cell_type": "markdown",
   "id": "3852d5d8",
   "metadata": {},
   "source": [
    "# 2. Write a Python program to do arithmetical operations addition and division.?"
   ]
  },
  {
   "cell_type": "code",
   "execution_count": 4,
   "id": "d7057797",
   "metadata": {},
   "outputs": [
    {
     "name": "stdout",
     "output_type": "stream",
     "text": [
      "10\n",
      "20\n",
      "addition 30\n",
      "division 0.5\n"
     ]
    }
   ],
   "source": [
    "a=int(input())\n",
    "b=int(input())\n",
    "print(\"addition\",a+b)\n",
    "print(\"division\",a/b)"
   ]
  },
  {
   "cell_type": "markdown",
   "id": "9942eceb",
   "metadata": {},
   "source": [
    "# 3.\tWrite a Python program to find the area of a triangle?"
   ]
  },
  {
   "cell_type": "code",
   "execution_count": 5,
   "id": "8e9990a2",
   "metadata": {},
   "outputs": [
    {
     "name": "stdout",
     "output_type": "stream",
     "text": [
      "10\n",
      "30\n",
      "150.0\n"
     ]
    }
   ],
   "source": [
    "b=int(input())\n",
    "h=int(input())\n",
    "triangle_area=b*h/2\n",
    "print(triangle_area)"
   ]
  },
  {
   "cell_type": "markdown",
   "id": "400f343f",
   "metadata": {},
   "source": [
    "# 4.\tWrite a Python program to swap two variables?"
   ]
  },
  {
   "cell_type": "code",
   "execution_count": 8,
   "id": "fcfce12d",
   "metadata": {},
   "outputs": [
    {
     "name": "stdout",
     "output_type": "stream",
     "text": [
      "23\n",
      "455\n",
      "Before swap 23 455\n",
      "After swap 455 23\n"
     ]
    }
   ],
   "source": [
    "a=int(input())\n",
    "b=int(input())\n",
    "print(\"Before swap\",a,b)\n",
    "temp=a\n",
    "a=b\n",
    "b=temp\n",
    "print(\"After swap\",a,b)"
   ]
  },
  {
   "cell_type": "markdown",
   "id": "0ba9d95c",
   "metadata": {},
   "source": [
    "# 5.\tWrite a Python program to generate a random number?"
   ]
  },
  {
   "cell_type": "code",
   "execution_count": 9,
   "id": "7635714b",
   "metadata": {},
   "outputs": [
    {
     "name": "stdout",
     "output_type": "stream",
     "text": [
      "[0.37379837 0.43295101 0.88405127 0.65921647 0.53420623 0.52047543\n",
      " 0.33741508 0.35018345 0.70096482 0.07225727]\n"
     ]
    }
   ],
   "source": [
    "import numpy as np\n",
    "c=np.random.rand(10)\n",
    "print(c)"
   ]
  },
  {
   "cell_type": "code",
   "execution_count": null,
   "id": "b27b6e0a",
   "metadata": {},
   "outputs": [],
   "source": []
  }
 ],
 "metadata": {
  "kernelspec": {
   "display_name": "Python 3 (ipykernel)",
   "language": "python",
   "name": "python3"
  },
  "language_info": {
   "codemirror_mode": {
    "name": "ipython",
    "version": 3
   },
   "file_extension": ".py",
   "mimetype": "text/x-python",
   "name": "python",
   "nbconvert_exporter": "python",
   "pygments_lexer": "ipython3",
   "version": "3.9.7"
  }
 },
 "nbformat": 4,
 "nbformat_minor": 5
}
