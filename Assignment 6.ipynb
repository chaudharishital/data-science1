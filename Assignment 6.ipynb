{
 "cells": [
  {
   "cell_type": "markdown",
   "id": "082f0643",
   "metadata": {},
   "source": [
    "# 1. What are escape characters, and how do you use them?"
   ]
  },
  {
   "cell_type": "code",
   "execution_count": null,
   "id": "c9dd70e5",
   "metadata": {},
   "outputs": [],
   "source": [
    "To insert characters that are illegal in a string, use an escape character.\n",
    "Escape characters:\n",
    "    \\n === new line \n",
    "    \\t === insert tab space\n",
    "    \\f === form feed\n",
    "    "
   ]
  },
  {
   "cell_type": "code",
   "execution_count": 50,
   "id": "9674c562",
   "metadata": {},
   "outputs": [
    {
     "name": "stdout",
     "output_type": "stream",
     "text": [
      " World!\n"
     ]
    }
   ],
   "source": [
    "print(\"Hello \\r World!\")"
   ]
  },
  {
   "cell_type": "code",
   "execution_count": 51,
   "id": "a4f499ec",
   "metadata": {},
   "outputs": [
    {
     "name": "stdout",
     "output_type": "stream",
     "text": [
      "Hello \n",
      " World!\n"
     ]
    }
   ],
   "source": [
    "print(\"Hello \\n World!\")"
   ]
  },
  {
   "cell_type": "code",
   "execution_count": 52,
   "id": "b0adbd71",
   "metadata": {},
   "outputs": [
    {
     "name": "stdout",
     "output_type": "stream",
     "text": [
      "Hello \t World!\n"
     ]
    }
   ],
   "source": [
    "print(\"Hello \\t World!\")"
   ]
  },
  {
   "cell_type": "markdown",
   "id": "ce5e9f52",
   "metadata": {},
   "source": [
    "# 2. What do the escape characters n and t stand for?"
   ]
  },
  {
   "cell_type": "code",
   "execution_count": null,
   "id": "31f5e140",
   "metadata": {},
   "outputs": [],
   "source": [
    "Escape  characters: \n",
    "\\n : new line\n",
    "\\t : tab"
   ]
  },
  {
   "cell_type": "markdown",
   "id": "2a2b8cf3",
   "metadata": {},
   "source": [
    "# 3. What is the way to include backslash characters in a string?"
   ]
  },
  {
   "cell_type": "code",
   "execution_count": 49,
   "id": "25c79a7d",
   "metadata": {},
   "outputs": [
    {
     "data": {
      "text/plain": [
       "\"Howl's Moving Castle/\""
      ]
     },
     "execution_count": 49,
     "metadata": {},
     "output_type": "execute_result"
    }
   ],
   "source": [
    "str1=\"Howl's Moving Castle/\"\n",
    "str1"
   ]
  },
  {
   "cell_type": "markdown",
   "id": "78e5613e",
   "metadata": {},
   "source": [
    "# 4. The string \"Howl's Moving Castle\" is a correct value. Why isn't the single quote character in the word Howl's not escaped a problem?"
   ]
  },
  {
   "cell_type": "markdown",
   "id": "3eab6ae3",
   "metadata": {},
   "source": [
    "If you write the string in single quotes then we can't use other characters like comma,single quote etc. inside string but if we used double quotes then we can characters like comma,single quotes.\n",
    "for this example is given below:"
   ]
  },
  {
   "cell_type": "code",
   "execution_count": 47,
   "id": "3ebb453f",
   "metadata": {},
   "outputs": [
    {
     "ename": "SyntaxError",
     "evalue": "invalid syntax (Temp/ipykernel_3796/182462951.py, line 1)",
     "output_type": "error",
     "traceback": [
      "\u001b[1;36m  File \u001b[1;32m\"C:\\Users\\Shital\\AppData\\Local\\Temp/ipykernel_3796/182462951.py\"\u001b[1;36m, line \u001b[1;32m1\u001b[0m\n\u001b[1;33m    str1='Howl's Moving Castle'\u001b[0m\n\u001b[1;37m               ^\u001b[0m\n\u001b[1;31mSyntaxError\u001b[0m\u001b[1;31m:\u001b[0m invalid syntax\n"
     ]
    }
   ],
   "source": [
    "str1='Howl's Moving Castle'\n",
    "str1"
   ]
  },
  {
   "cell_type": "code",
   "execution_count": 48,
   "id": "2d0259ee",
   "metadata": {},
   "outputs": [
    {
     "data": {
      "text/plain": [
       "\"Howl's Moving Castle\""
      ]
     },
     "execution_count": 48,
     "metadata": {},
     "output_type": "execute_result"
    }
   ],
   "source": [
    "str1=\"Howl's Moving Castle\"\n",
    "str1"
   ]
  },
  {
   "cell_type": "markdown",
   "id": "75341fb2",
   "metadata": {},
   "source": [
    "# 5. How do you write a string of newlines if you don't want to use the n character?"
   ]
  },
  {
   "cell_type": "code",
   "execution_count": 45,
   "id": "cee02653",
   "metadata": {},
   "outputs": [
    {
     "name": "stdout",
     "output_type": "stream",
     "text": [
      "shital \n",
      "subhash\n",
      "chaudhari\n"
     ]
    }
   ],
   "source": [
    "str1='shital \\nsubhash\\nchaudhari'\n",
    "print(str1,end=\"\\n\")"
   ]
  },
  {
   "cell_type": "markdown",
   "id": "712e9d66",
   "metadata": {},
   "source": [
    "# 6. What are the values of the given expressions?\n",
    "'Hello, world!'[1]\n",
    "'Hello, world!'[0:5]\n",
    "'Hello, world!'[:5]\n",
    "'Hello, world!'[3:]\n"
   ]
  },
  {
   "cell_type": "code",
   "execution_count": 25,
   "id": "526d8f73",
   "metadata": {},
   "outputs": [
    {
     "data": {
      "text/plain": [
       "'e'"
      ]
     },
     "execution_count": 25,
     "metadata": {},
     "output_type": "execute_result"
    }
   ],
   "source": [
    "str1='Hello, world!'[1]\n",
    "str1"
   ]
  },
  {
   "cell_type": "code",
   "execution_count": 26,
   "id": "437d2208",
   "metadata": {},
   "outputs": [
    {
     "data": {
      "text/plain": [
       "'Hello'"
      ]
     },
     "execution_count": 26,
     "metadata": {},
     "output_type": "execute_result"
    }
   ],
   "source": [
    "str2='Hello, world!'[0:5]\n",
    "str2"
   ]
  },
  {
   "cell_type": "code",
   "execution_count": 27,
   "id": "ed81dac5",
   "metadata": {},
   "outputs": [
    {
     "data": {
      "text/plain": [
       "'Hello'"
      ]
     },
     "execution_count": 27,
     "metadata": {},
     "output_type": "execute_result"
    }
   ],
   "source": [
    "str2= 'Hello, world!'[:5] \n",
    "str2"
   ]
  },
  {
   "cell_type": "code",
   "execution_count": 28,
   "id": "bd4616d6",
   "metadata": {},
   "outputs": [
    {
     "data": {
      "text/plain": [
       "'lo, world!'"
      ]
     },
     "execution_count": 28,
     "metadata": {},
     "output_type": "execute_result"
    }
   ],
   "source": [
    "str2='Hello, world!'[3:]\n",
    "str2"
   ]
  },
  {
   "cell_type": "markdown",
   "id": "d38578ad",
   "metadata": {},
   "source": [
    "# 7. What are the values of the following expressions?\n",
    "'Hello'.upper()\n",
    "'Hello'.upper().isupper()\n",
    "'Hello'.upper().lower()\n"
   ]
  },
  {
   "cell_type": "code",
   "execution_count": 29,
   "id": "26db9f0c",
   "metadata": {},
   "outputs": [
    {
     "name": "stdout",
     "output_type": "stream",
     "text": [
      "HELLO\n"
     ]
    }
   ],
   "source": [
    "print('Hello'.upper())"
   ]
  },
  {
   "cell_type": "code",
   "execution_count": 30,
   "id": "4fe776e6",
   "metadata": {},
   "outputs": [
    {
     "name": "stdout",
     "output_type": "stream",
     "text": [
      "True\n"
     ]
    }
   ],
   "source": [
    "print( 'Hello'.upper().isupper())"
   ]
  },
  {
   "cell_type": "code",
   "execution_count": 31,
   "id": "bf8389f1",
   "metadata": {},
   "outputs": [
    {
     "name": "stdout",
     "output_type": "stream",
     "text": [
      "hello\n"
     ]
    }
   ],
   "source": [
    "print('Hello'.upper().lower())"
   ]
  },
  {
   "cell_type": "markdown",
   "id": "e0ea756f",
   "metadata": {},
   "source": [
    "# 8. What are the values of the following expressions?\n",
    "'Remember, remember, the fifth of July.'.split()\n",
    "'-'.join('There can only one.'.split())\n"
   ]
  },
  {
   "cell_type": "code",
   "execution_count": 22,
   "id": "e64865db",
   "metadata": {},
   "outputs": [
    {
     "data": {
      "text/plain": [
       "['Remember,', 'remember,', 'the', 'fifth', 'of', 'July.']"
      ]
     },
     "execution_count": 22,
     "metadata": {},
     "output_type": "execute_result"
    }
   ],
   "source": [
    "str1='Remember, remember, the fifth of July.'.split() \n",
    "str1"
   ]
  },
  {
   "cell_type": "code",
   "execution_count": 23,
   "id": "19cb898c",
   "metadata": {},
   "outputs": [
    {
     "data": {
      "text/plain": [
       "'There-can-only-one.'"
      ]
     },
     "execution_count": 23,
     "metadata": {},
     "output_type": "execute_result"
    }
   ],
   "source": [
    " '-'.join('There can only one.'.split())"
   ]
  },
  {
   "cell_type": "markdown",
   "id": "fce9efd2",
   "metadata": {},
   "source": [
    "# 9. What are the methods for right-justifying, left-justifying, and centering a string?"
   ]
  },
  {
   "cell_type": "code",
   "execution_count": null,
   "id": "bdc94966",
   "metadata": {},
   "outputs": [],
   "source": [
    "method for left-justifying :   str.ljust(s, width[, fillchar])\n",
    "method for right-justifying:   str.rjust(s, width[, fillchar])\n",
    "method for centering a string: str.center(s, width[, fillchar])"
   ]
  },
  {
   "cell_type": "code",
   "execution_count": 14,
   "id": "32b5d3c0",
   "metadata": {},
   "outputs": [
    {
     "name": "stdout",
     "output_type": "stream",
     "text": [
      "shital    chaudhari*********************\n"
     ]
    }
   ],
   "source": [
    "str1=\"shital    chaudhari\"\n",
    "str2=str1.ljust(40,\"*\")\n",
    "print(str2)"
   ]
  },
  {
   "cell_type": "code",
   "execution_count": 18,
   "id": "50d5ed57",
   "metadata": {},
   "outputs": [
    {
     "name": "stdout",
     "output_type": "stream",
     "text": [
      "*********************shital    chaudhari\n"
     ]
    }
   ],
   "source": [
    "str1=\"shital    chaudhari\"\n",
    "str2=str1.rjust(40,\"*\")\n",
    "print(str2)"
   ]
  },
  {
   "cell_type": "code",
   "execution_count": 19,
   "id": "c6f9c979",
   "metadata": {},
   "outputs": [
    {
     "name": "stdout",
     "output_type": "stream",
     "text": [
      "**********shital    chaudhari***********\n"
     ]
    }
   ],
   "source": [
    "str1=\"shital    chaudhari\"\n",
    "str2=str1.center(40,\"*\")\n",
    "print(str2)"
   ]
  },
  {
   "cell_type": "markdown",
   "id": "a0fd79b3",
   "metadata": {},
   "source": [
    "# 10. What is the best way to remove whitespace characters from the start or end?"
   ]
  },
  {
   "cell_type": "markdown",
   "id": "d948a519",
   "metadata": {},
   "source": [
    "Best way to remove whitespace characters from start or end is strip() function."
   ]
  },
  {
   "cell_type": "code",
   "execution_count": 12,
   "id": "8076be9b",
   "metadata": {},
   "outputs": [
    {
     "name": "stdout",
     "output_type": "stream",
     "text": [
      "string is:shital    chaudhari\n"
     ]
    }
   ],
   "source": [
    "str1=\"                shital    chaudhari   \"\n",
    "str3=str1.strip()\n",
    "print(\"string is:\"+str3)"
   ]
  }
 ],
 "metadata": {
  "kernelspec": {
   "display_name": "Python 3 (ipykernel)",
   "language": "python",
   "name": "python3"
  },
  "language_info": {
   "codemirror_mode": {
    "name": "ipython",
    "version": 3
   },
   "file_extension": ".py",
   "mimetype": "text/x-python",
   "name": "python",
   "nbconvert_exporter": "python",
   "pygments_lexer": "ipython3",
   "version": "3.9.7"
  }
 },
 "nbformat": 4,
 "nbformat_minor": 5
}
