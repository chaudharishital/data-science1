{
 "cells": [
  {
   "cell_type": "markdown",
   "id": "228e30f5",
   "metadata": {},
   "source": [
    "# 1. How do you distinguish between shutil.copy() and shutil.copytree()?"
   ]
  },
  {
   "cell_type": "code",
   "execution_count": null,
   "id": "5354ab04",
   "metadata": {},
   "outputs": [],
   "source": [
    "shutil.copy() :shutil.copy () will copy a single file\n",
    "shutil.copytree() :It will copy an entire folder and every folder and file contained in it."
   ]
  },
  {
   "cell_type": "markdown",
   "id": "49a1040c",
   "metadata": {},
   "source": [
    "# 2. What function is used to rename files?"
   ]
  },
  {
   "cell_type": "markdown",
   "id": "ee9381d2",
   "metadata": {},
   "source": [
    "os.rename()"
   ]
  },
  {
   "cell_type": "code",
   "execution_count": 2,
   "id": "7a26f558",
   "metadata": {},
   "outputs": [],
   "source": [
    "import os\n",
    "os.rename('D:\\Downloads\\Assignment 9.ipynb','D:\\Downloads\\Assignment 91111.ipynb')"
   ]
  },
  {
   "cell_type": "markdown",
   "id": "5ca4f6c2",
   "metadata": {},
   "source": [
    "# 3. What is the difference between the delete functions in the send2trash and shutil modules?"
   ]
  },
  {
   "cell_type": "code",
   "execution_count": null,
   "id": "37165fb7",
   "metadata": {},
   "outputs": [],
   "source": [
    "Using send2trash, we can send files to the Trash or Recycle Bin instead of permanently deleting them.\n",
    "Using shutil module we can delete files with it's content."
   ]
  },
  {
   "cell_type": "markdown",
   "id": "78648746",
   "metadata": {},
   "source": [
    "# 4.ZipFile objects have a close() method just like File objects’ close() method. What ZipFile method is equivalent to File objects’ open() method?"
   ]
  },
  {
   "cell_type": "code",
   "execution_count": null,
   "id": "97b6e920",
   "metadata": {},
   "outputs": [],
   "source": [
    "ZipObject = zipfile.ZipFile(p / 'linearregression.zip')"
   ]
  },
  {
   "cell_type": "markdown",
   "id": "51cfea7d",
   "metadata": {},
   "source": [
    "# 5. Create a programme that searches a folder tree for files with a certain file extension (such as .pdf or .jpg). Copy these files from whatever location they are in to a new folder."
   ]
  },
  {
   "cell_type": "code",
   "execution_count": 4,
   "id": "91d9ac1e",
   "metadata": {},
   "outputs": [
    {
     "name": "stdout",
     "output_type": "stream",
     "text": [
      "Looking in C:\\Users\\Shital\\Downloads for files with extensions of .mp4, .pdf, .jpg\n"
     ]
    }
   ],
   "source": [
    "import os\n",
    "import shutil\n",
    "def selectiveCopy(source, extensions, destFolder):\n",
    "    folder = os.path.abspath(source)\n",
    "    destFolder = os.path.abspath(destFolder)\n",
    "    print('Looking in', source, 'for files with extensions of', ', '.join(extensions))\n",
    "    for foldername, subfolders, filenames in os.walk(source):\n",
    "        for filename in filenames:\n",
    "            name, extension = os.path.splitext(filename)\n",
    "            if extension in extensions:\n",
    "                fileAbsPath = foldername + os.path.sep + filename\n",
    "                print('Coping', fileAbsPath, 'to', destFolder)\n",
    "                shutil.copy(fileAbsPath, destFolder)\n",
    "\n",
    "extensions = ['.mp4', '.pdf','.jpg']\n",
    "source = \"C:\\\\Users\\\\Shital\\\\Downloads\"\n",
    "destFolder = \"C:\\\\Users\\\\Shital\\\\Downloads\\\\dest\"\n",
    "selectiveCopy(source, extensions, destFolder)"
   ]
  },
  {
   "cell_type": "code",
   "execution_count": null,
   "id": "c70d393e",
   "metadata": {},
   "outputs": [],
   "source": []
  }
 ],
 "metadata": {
  "kernelspec": {
   "display_name": "Python 3 (ipykernel)",
   "language": "python",
   "name": "python3"
  },
  "language_info": {
   "codemirror_mode": {
    "name": "ipython",
    "version": 3
   },
   "file_extension": ".py",
   "mimetype": "text/x-python",
   "name": "python",
   "nbconvert_exporter": "python",
   "pygments_lexer": "ipython3",
   "version": "3.9.7"
  }
 },
 "nbformat": 4,
 "nbformat_minor": 5
}
