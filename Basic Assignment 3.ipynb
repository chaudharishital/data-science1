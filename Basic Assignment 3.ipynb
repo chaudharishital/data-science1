{
 "cells": [
  {
   "cell_type": "markdown",
   "id": "4d084577",
   "metadata": {},
   "source": [
    "# 1.\tWrite a Python Program to Check if a Number is Positive, Negative or Zero?"
   ]
  },
  {
   "cell_type": "code",
   "execution_count": 1,
   "id": "b581ba30",
   "metadata": {},
   "outputs": [
    {
     "name": "stdout",
     "output_type": "stream",
     "text": [
      "10\n",
      "10 is positive\n"
     ]
    }
   ],
   "source": [
    "a=int(input())\n",
    "if(a>0):\n",
    "    print(a,\"is positive\")\n",
    "elif(a<0):\n",
    "    print(a,\"is negative\")\n",
    "else:\n",
    "    print(a,\"is Zero\")\n"
   ]
  },
  {
   "cell_type": "code",
   "execution_count": 2,
   "id": "5394e74d",
   "metadata": {},
   "outputs": [
    {
     "name": "stdout",
     "output_type": "stream",
     "text": [
      "-20\n",
      "-20 is negative\n"
     ]
    }
   ],
   "source": [
    "a=int(input())\n",
    "if(a>0):\n",
    "    print(a,\"is positive\")\n",
    "elif(a<0):\n",
    "    print(a,\"is negative\")\n",
    "else:\n",
    "    print(a,\"is Zero\")"
   ]
  },
  {
   "cell_type": "code",
   "execution_count": 3,
   "id": "cc879a3a",
   "metadata": {},
   "outputs": [
    {
     "name": "stdout",
     "output_type": "stream",
     "text": [
      "0\n",
      "0 is Zero\n"
     ]
    }
   ],
   "source": [
    "a=int(input())\n",
    "if(a>0):\n",
    "    print(a,\"is positive\")\n",
    "elif(a<0):\n",
    "    print(a,\"is negative\")\n",
    "else:\n",
    "    print(a,\"is Zero\")"
   ]
  },
  {
   "cell_type": "markdown",
   "id": "fea480e2",
   "metadata": {},
   "source": [
    "# 2.\tWrite a Python Program to Check if a Number is Odd or Even?"
   ]
  },
  {
   "cell_type": "code",
   "execution_count": 4,
   "id": "408fb706",
   "metadata": {},
   "outputs": [
    {
     "name": "stdout",
     "output_type": "stream",
     "text": [
      "10\n",
      "10 is even number\n"
     ]
    }
   ],
   "source": [
    "a=int(input())\n",
    "if(a%2==0):\n",
    "    print(a,\"is even number\")\n",
    "else:\n",
    "    print(a,\"is odd number\")"
   ]
  },
  {
   "cell_type": "code",
   "execution_count": 5,
   "id": "07e9be1a",
   "metadata": {},
   "outputs": [
    {
     "name": "stdout",
     "output_type": "stream",
     "text": [
      "15\n",
      "15 is odd number\n"
     ]
    }
   ],
   "source": [
    "a=int(input())\n",
    "if(a%2==0):\n",
    "    print(a,\"is even number\")\n",
    "else:\n",
    "    print(a,\"is odd number\")"
   ]
  },
  {
   "cell_type": "markdown",
   "id": "2fd1b80b",
   "metadata": {},
   "source": [
    "# 3.\tWrite a Python Program to Check Leap Year?"
   ]
  },
  {
   "cell_type": "code",
   "execution_count": 9,
   "id": "579a1313",
   "metadata": {},
   "outputs": [
    {
     "name": "stdout",
     "output_type": "stream",
     "text": [
      "2000\n",
      "2000 is leap year\n"
     ]
    }
   ],
   "source": [
    "year=int(input())\n",
    "if(year%400==0 and year%100==0):\n",
    "    print(\"{0} is leap year\".format(year))\n",
    "elif(year%4==0 and year%100!=0):\n",
    "    print(\"{0} is leap year\".format(year))\n",
    "else:\n",
    "    print(\"{0} is not leap year\".format(year))"
   ]
  },
  {
   "cell_type": "code",
   "execution_count": 10,
   "id": "5dd8456e",
   "metadata": {},
   "outputs": [
    {
     "name": "stdout",
     "output_type": "stream",
     "text": [
      "2008\n",
      "2008 is leap year\n"
     ]
    }
   ],
   "source": [
    "year=int(input())\n",
    "if(year%400==0 and year%100==0):\n",
    "    print(\"{0} is leap year\".format(year))\n",
    "elif(year%4==0 and year%100!=0):\n",
    "    print(\"{0} is leap year\".format(year))\n",
    "else:\n",
    "    print(\"{0} is not leap year\".format(year))"
   ]
  },
  {
   "cell_type": "code",
   "execution_count": 11,
   "id": "25683efb",
   "metadata": {},
   "outputs": [
    {
     "name": "stdout",
     "output_type": "stream",
     "text": [
      "2009\n",
      "2009 is not leap year\n"
     ]
    }
   ],
   "source": [
    "year=int(input())\n",
    "if(year%400==0 and year%100==0):\n",
    "    print(\"{0} is leap year\".format(year))\n",
    "elif(year%4==0 and year%100!=0):\n",
    "    print(\"{0} is leap year\".format(year))\n",
    "else:\n",
    "    print(\"{0} is not leap year\".format(year))"
   ]
  }
 ],
 "metadata": {
  "kernelspec": {
   "display_name": "Python 3 (ipykernel)",
   "language": "python",
   "name": "python3"
  },
  "language_info": {
   "codemirror_mode": {
    "name": "ipython",
    "version": 3
   },
   "file_extension": ".py",
   "mimetype": "text/x-python",
   "name": "python",
   "nbconvert_exporter": "python",
   "pygments_lexer": "ipython3",
   "version": "3.9.7"
  }
 },
 "nbformat": 4,
 "nbformat_minor": 5
}
