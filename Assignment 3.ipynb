{
 "cells": [
  {
   "cell_type": "markdown",
   "id": "309a2066",
   "metadata": {},
   "source": [
    "# 1. Why are functions advantageous to have in your programs?"
   ]
  },
  {
   "cell_type": "markdown",
   "id": "ac07cf77",
   "metadata": {},
   "source": [
    "1. Reusability: we can define a function once and use whenever it's required.\n",
    "2. structural/Modular: Function makes our code modular and in structured format."
   ]
  },
  {
   "cell_type": "markdown",
   "id": "8adf8eea",
   "metadata": {},
   "source": [
    "# 2. When does the code in a function run: when it's specified or when it's called?"
   ]
  },
  {
   "cell_type": "markdown",
   "id": "b97488c6",
   "metadata": {},
   "source": [
    "When we want to use code written inside a function that time we called that function and then it's start running code written inside that function"
   ]
  },
  {
   "cell_type": "markdown",
   "id": "faa4a860",
   "metadata": {},
   "source": [
    "# 3. What statement creates a function?"
   ]
  },
  {
   "cell_type": "markdown",
   "id": "500ad5a9",
   "metadata": {},
   "source": [
    "def function_name():\n",
    "    \n",
    "    #write the logic or code whatever we want\n",
    "   "
   ]
  },
  {
   "cell_type": "markdown",
   "id": "1f165b37",
   "metadata": {},
   "source": [
    "# 4. What is the difference between a function and a function call?"
   ]
  },
  {
   "cell_type": "markdown",
   "id": "4ba0058b",
   "metadata": {},
   "source": [
    "1. Function : function is block of code.\n",
    "2. Function call: When we want to run code written inside the function that time we write function call so that function will execute."
   ]
  },
  {
   "cell_type": "markdown",
   "id": "afdf1f01",
   "metadata": {},
   "source": [
    "# 5. How many global scopes are there in a Python program? How many local scopes?"
   ]
  },
  {
   "cell_type": "markdown",
   "id": "cb32cb85",
   "metadata": {},
   "source": [
    "Answer:"
   ]
  },
  {
   "cell_type": "markdown",
   "id": "eff31dd8",
   "metadata": {},
   "source": [
    "# 6. What happens to variables in a local scope when the function call returns?"
   ]
  },
  {
   "cell_type": "markdown",
   "id": "aad319f8",
   "metadata": {},
   "source": [
    "The variables which are in local scope ,When function call returns they will not accesible and scope of variable is also end up."
   ]
  },
  {
   "cell_type": "markdown",
   "id": "0cdf388d",
   "metadata": {},
   "source": [
    "# 7. What is the concept of a return value? Is it possible to have a return value in an expression?"
   ]
  },
  {
   "cell_type": "markdown",
   "id": "6f76858d",
   "metadata": {},
   "source": [
    "The value returned by a function can be used further whenever required.\n",
    "It is possible to have a return value in an expression."
   ]
  },
  {
   "cell_type": "markdown",
   "id": "50b82d43",
   "metadata": {},
   "source": [
    "# 8. If a function does not have a return statement, what is the return value of a call to that function?"
   ]
  },
  {
   "cell_type": "markdown",
   "id": "65a82d59",
   "metadata": {},
   "source": [
    " If a function does not have a return statement,then the return value of a call to that function is None type"
   ]
  },
  {
   "cell_type": "markdown",
   "id": "6254e0dd",
   "metadata": {},
   "source": [
    "# 9. How do you make a function variable refer to the global variable?"
   ]
  },
  {
   "cell_type": "markdown",
   "id": "7b80a348",
   "metadata": {},
   "source": [
    "If you want to refer to a global variable inside a function, you can use the global keyword to declare which variables are global."
   ]
  },
  {
   "cell_type": "markdown",
   "id": "b9c2f0e6",
   "metadata": {},
   "source": [
    "# 10. What is the data type of None?"
   ]
  },
  {
   "cell_type": "markdown",
   "id": "27f8dbf4",
   "metadata": {},
   "source": [
    "It is a data type of the class NoneType object."
   ]
  },
  {
   "cell_type": "markdown",
   "id": "9df9c230",
   "metadata": {},
   "source": [
    "# 11. What does the sentence import areallyourpetsnamederic do?"
   ]
  },
  {
   "cell_type": "markdown",
   "id": "89685853",
   "metadata": {},
   "source": [
    "It will import areallyourpetsnamederic module so that we can used functions which are available in that module."
   ]
  },
  {
   "cell_type": "markdown",
   "id": "a22f7221",
   "metadata": {},
   "source": [
    "# 12. If you had a bacon() feature in a spam module, what would you call it after importing spam?"
   ]
  },
  {
   "cell_type": "markdown",
   "id": "389292eb",
   "metadata": {},
   "source": [
    "import spam as sp\n",
    "\n",
    "sp.bacon()"
   ]
  },
  {
   "cell_type": "markdown",
   "id": "79fbc645",
   "metadata": {},
   "source": [
    "# 13. What can you do to save a programme from crashing if it encounters an error?"
   ]
  },
  {
   "cell_type": "markdown",
   "id": "d37de0a9",
   "metadata": {},
   "source": [
    "Error handling can be used to notify the user of why the error occurred and  exit the process that caused the error."
   ]
  },
  {
   "cell_type": "markdown",
   "id": "ad8ec4ff",
   "metadata": {},
   "source": [
    "# 14. What is the purpose of the try clause? What is the purpose of the except clause?"
   ]
  },
  {
   "cell_type": "markdown",
   "id": "94d8a91d",
   "metadata": {},
   "source": [
    "try block is written for testing block of code which might contains errors or if there is chance of getting error for specific conditions.\n",
    "FOr handling errors present inside try we use except block for smooth exceution of program ."
   ]
  }
 ],
 "metadata": {
  "kernelspec": {
   "display_name": "Python 3 (ipykernel)",
   "language": "python",
   "name": "python3"
  },
  "language_info": {
   "codemirror_mode": {
    "name": "ipython",
    "version": 3
   },
   "file_extension": ".py",
   "mimetype": "text/x-python",
   "name": "python",
   "nbconvert_exporter": "python",
   "pygments_lexer": "ipython3",
   "version": "3.9.7"
  }
 },
 "nbformat": 4,
 "nbformat_minor": 5
}
