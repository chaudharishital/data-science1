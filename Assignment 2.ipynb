{
 "cells": [
  {
   "cell_type": "markdown",
   "id": "8ae7e858",
   "metadata": {},
   "source": [
    "# 1. What are the two values of the Boolean data type? How do you write them?"
   ]
  },
  {
   "cell_type": "markdown",
   "id": "afd21ab0",
   "metadata": {},
   "source": [
    "Two values of the Boolean data type : 1.True   2. False\n"
   ]
  },
  {
   "cell_type": "markdown",
   "id": "6e9659c1",
   "metadata": {},
   "source": [
    "# 2. What are the three different types of Boolean operators?"
   ]
  },
  {
   "cell_type": "markdown",
   "id": "563524c7",
   "metadata": {},
   "source": [
    "Three different types of Boolean operators:\n",
    "    1. AND\n",
    "    2. OR\n",
    "    3. NOT"
   ]
  },
  {
   "cell_type": "markdown",
   "id": "5f7a685f",
   "metadata": {},
   "source": [
    "# 3. Make a list of each Boolean operator's truth tables (i.e. every possible combination of Boolean values for the operator and what it evaluate )."
   ]
  },
  {
   "cell_type": "markdown",
   "id": "aaec643d",
   "metadata": {},
   "source": [
    "val1             val2          AND             OR  \n",
    "\n",
    "1                 1             1              1 \n",
    "\n",
    "1                 0             0              1  \n",
    "\n",
    "0                 1             0              1  \n",
    "\n",
    "0                 0             0              0  \n",
    "\n",
    "\n",
    "\n",
    "\n"
   ]
  },
  {
   "cell_type": "markdown",
   "id": "c7c3a3c1",
   "metadata": {},
   "source": [
    "val    NOT\n",
    "\n",
    "1       0\n",
    "\n",
    "0       1\n",
    "\n"
   ]
  },
  {
   "cell_type": "markdown",
   "id": "2eb1834c",
   "metadata": {},
   "source": [
    "# 4. What are the values of the following expressions?\n",
    "(5 > 4) and (3 == 5)\n",
    "not (5 > 4)\n",
    "(5 > 4) or (3 == 5)\n",
    "not ((5 > 4) or (3 == 5))\n",
    "(True and True) and (True == False)\n",
    "(not False) or (not True)\n"
   ]
  },
  {
   "cell_type": "markdown",
   "id": "854ba633",
   "metadata": {},
   "source": [
    "Answer:   \n",
    "    \n",
    "    1.  (5 > 4) and (3 == 5)    -> True and False ---False\n",
    "    2.  not (5 > 4)             ->  not(True)     ---False\n",
    "    3.  (5 > 4) or (3 == 5)     ->  True or False ---True\n",
    "    4.  not ((5 > 4) or (3 == 5)) -> not(True or False) --- not(True) ----False\n",
    "    5.  (True and True) and (True == False) -> True and False ----False\n",
    "    6.  (not False) or (not True)  -> True or False   ---- True\n",
    "\n",
    "    "
   ]
  },
  {
   "cell_type": "markdown",
   "id": "9bc88292",
   "metadata": {},
   "source": [
    "# 5. What are the six comparison operators?"
   ]
  },
  {
   "cell_type": "markdown",
   "id": "176e9d01",
   "metadata": {},
   "source": [
    "1.  ==\n",
    "2.  !=\n",
    "3.  <\n",
    "4.  >\n",
    "5.  <=\n",
    "6.  >="
   ]
  },
  {
   "cell_type": "markdown",
   "id": "84ba9f5b",
   "metadata": {},
   "source": [
    "# 6. How do you tell the difference between the equal to and assignment operators?Describe a condition and when you would use one."
   ]
  },
  {
   "cell_type": "markdown",
   "id": "cda59e48",
   "metadata": {},
   "source": [
    "1. Equal to operator used for checking the values are same or not. e.g a=10 b=20 a==b\n",
    "2. Assignment operator used for assigning a value on varible. e.g  a=10  ,b=\"shial\"\n",
    "\n",
    "when i have to check the both variables contains same value or not that time i will used equal to.\n",
    "\n",
    "when i have to assign a value on variable that time i will use assignment operator\n"
   ]
  },
  {
   "cell_type": "markdown",
   "id": "9a791fc8",
   "metadata": {},
   "source": [
    "# 7. Identify the three blocks in this code:\n",
    "spam = 0\n",
    "\n",
    "if spam == 10:\n",
    "    \n",
    "print('eggs')\n",
    "\n",
    "if spam > 5:\n",
    "    \n",
    "print('bacon')\n",
    "\n",
    "else:\n",
    "    \n",
    "print('ham')\n",
    "\n",
    "print('spam')\n",
    "\n",
    "print('spam')\n",
    "\n"
   ]
  },
  {
   "cell_type": "code",
   "execution_count": null,
   "id": "4932d5ac",
   "metadata": {},
   "outputs": [],
   "source": [
    "Answer:\n",
    "    First Block :\n",
    "        if spam == 10:\n",
    "            print('eggs')\n",
    "    Second Block:\n",
    "        if spam > 5:\n",
    "            print('bacon')\n",
    "    Third Block:\n",
    "        else:\n",
    "            print('ham')\n",
    "        "
   ]
  },
  {
   "cell_type": "markdown",
   "id": "ce8f37b3",
   "metadata": {},
   "source": [
    "# 8. Write code that prints Hello if 1 is stored in spam, prints Howdy if 2 is stored in spam, and prints Greetings! if anything else is stored in spam."
   ]
  },
  {
   "cell_type": "code",
   "execution_count": 9,
   "id": "4ccd3c24",
   "metadata": {},
   "outputs": [
    {
     "name": "stdout",
     "output_type": "stream",
     "text": [
      "2\n",
      "Howdy\n"
     ]
    }
   ],
   "source": [
    "spam=int(input())\n",
    "if spam==1:\n",
    "    print(\"Hello\")\n",
    "elif spam==2:\n",
    "    print(\"Howdy\")\n",
    "else:\n",
    "    print(\"Greetings!\")\n",
    "    "
   ]
  },
  {
   "cell_type": "markdown",
   "id": "0fb56a5c",
   "metadata": {},
   "source": [
    "# 9.If your programme is stuck in an endless loop, what keys you’ll press?"
   ]
  },
  {
   "cell_type": "markdown",
   "id": "72a646ec",
   "metadata": {},
   "source": [
    "Press Ctrl+C\n",
    "    "
   ]
  },
  {
   "cell_type": "markdown",
   "id": "9e0349b7",
   "metadata": {},
   "source": [
    "# 10. How can you tell the difference between break and continue?"
   ]
  },
  {
   "cell_type": "markdown",
   "id": "367e3df5",
   "metadata": {},
   "source": [
    "1. break :\n",
    "    break is used, when we want to stop iteration and need to come out of loop.\n",
    "2. continue:\n",
    "    continue is used, when we want to keep iterating the loop that time we used continue."
   ]
  },
  {
   "cell_type": "markdown",
   "id": "6717f7d8",
   "metadata": {},
   "source": [
    "# 11. In a for loop, what is the difference between range(10), range(0, 10), and range(0, 10, 1)?"
   ]
  },
  {
   "cell_type": "markdown",
   "id": "ad9596a5",
   "metadata": {},
   "source": [
    "1. range(10):\n",
    "    it means start = 0, stop= 10  ,step=1  so it wil be iterate from 0 to 9.\n",
    "2. range(0,10)\n",
    "    It means start = 0, stop= 10  ,step=1  so it wil be iterate from 0 to 9.\n",
    "3. range(0,10,1):\n",
    "    it means start = 0, stop= 10  ,step=1  so it wil be iterate from 0 to 9.\n",
    "\n",
    "There is no difference logically. "
   ]
  },
  {
   "cell_type": "markdown",
   "id": "acb96fbb",
   "metadata": {},
   "source": [
    "# 12. Write a short program that prints the numbers 1 to 10 using a for loop. Then write an equivalent program that prints the numbers 1 to 10 using a while loop."
   ]
  },
  {
   "cell_type": "code",
   "execution_count": 7,
   "id": "263ce5fb",
   "metadata": {},
   "outputs": [
    {
     "name": "stdout",
     "output_type": "stream",
     "text": [
      "1\n",
      "2\n",
      "3\n",
      "4\n",
      "5\n",
      "6\n",
      "7\n",
      "8\n",
      "9\n",
      "10\n"
     ]
    }
   ],
   "source": [
    "#using For loop\n",
    "for i in range(1,11):\n",
    "    print(i)"
   ]
  },
  {
   "cell_type": "code",
   "execution_count": 6,
   "id": "25c010ec",
   "metadata": {},
   "outputs": [
    {
     "name": "stdout",
     "output_type": "stream",
     "text": [
      "1\n",
      "2\n",
      "3\n",
      "4\n",
      "5\n",
      "6\n",
      "7\n",
      "8\n",
      "9\n",
      "10\n"
     ]
    }
   ],
   "source": [
    "#using while loop\n",
    "i=1\n",
    "while(i<=10):\n",
    "    print(i)\n",
    "    i=i+1"
   ]
  },
  {
   "cell_type": "markdown",
   "id": "1aff25b8",
   "metadata": {},
   "source": [
    "# 13. If you had a function named bacon() inside a module named spam, how would you call it after importing spam?"
   ]
  },
  {
   "cell_type": "code",
   "execution_count": null,
   "id": "198e6318",
   "metadata": {},
   "outputs": [],
   "source": [
    "import spam as sp\n",
    "sp.bacon()"
   ]
  },
  {
   "cell_type": "code",
   "execution_count": null,
   "id": "faa565bc",
   "metadata": {},
   "outputs": [],
   "source": []
  },
  {
   "cell_type": "code",
   "execution_count": null,
   "id": "ece13c54",
   "metadata": {},
   "outputs": [],
   "source": []
  },
  {
   "cell_type": "code",
   "execution_count": null,
   "id": "cd4309cf",
   "metadata": {},
   "outputs": [],
   "source": []
  },
  {
   "cell_type": "code",
   "execution_count": null,
   "id": "2f9389dd",
   "metadata": {},
   "outputs": [],
   "source": []
  }
 ],
 "metadata": {
  "kernelspec": {
   "display_name": "Python 3 (ipykernel)",
   "language": "python",
   "name": "python3"
  },
  "language_info": {
   "codemirror_mode": {
    "name": "ipython",
    "version": 3
   },
   "file_extension": ".py",
   "mimetype": "text/x-python",
   "name": "python",
   "nbconvert_exporter": "python",
   "pygments_lexer": "ipython3",
   "version": "3.9.7"
  }
 },
 "nbformat": 4,
 "nbformat_minor": 5
}
