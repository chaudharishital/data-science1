{
 "cells": [
  {
   "cell_type": "code",
   "execution_count": null,
   "id": "0bf052bd",
   "metadata": {},
   "outputs": [],
   "source": [
    "# 1. In the below elements which of them are values or an expression? eg:- values can be integer or string and expressions will be mathematical operators.\n",
    "  * \n",
    "   'hello'\n",
    "   -87.8\n",
    "  - \n",
    "   / \n",
    "   +\n",
    "   6 \n"
   ]
  },
  {
   "cell_type": "code",
   "execution_count": null,
   "id": "9e513d41",
   "metadata": {},
   "outputs": [],
   "source": [
    "*              - expressions\n",
    "'hello'        -value\n",
    "-87.8          -value\n",
    "-              -expressions\n",
    "/              -expressions\n",
    "+              -expressions\n",
    "6              -value"
   ]
  },
  {
   "cell_type": "markdown",
   "id": "e3a79cca",
   "metadata": {},
   "source": [
    "# 2. What is the difference between string and variable?"
   ]
  },
  {
   "cell_type": "markdown",
   "id": "84949169",
   "metadata": {},
   "source": [
    "String is one of the type of variable. e.g: name=\"shital\" ---here name is variable which storing a value of string datatype.\n",
    "variable is storing a value of different data types like int, float, string etc.\n",
    "e.g: name=\"shital\"\n",
    "     age=22\n",
    "     experience=1.5\n",
    "     here name,age,experience is a variable which holds values of different data types\n"
   ]
  },
  {
   "cell_type": "markdown",
   "id": "09735800",
   "metadata": {},
   "source": [
    "# 3. Describe three different data types."
   ]
  },
  {
   "cell_type": "markdown",
   "id": "7151a269",
   "metadata": {},
   "source": [
    "Three different data types:\n",
    "    1. str\n",
    "    2. int\n",
    "    3. float\n",
    "    4. object\n",
    "    5.list\n",
    "    6.tuple\n",
    "    7.dict\n",
    "    8.set\n",
    "    \n",
    "    1. str : If the variables which contains the data present in quotes, called as str type variable.\n",
    "    2. int : If the variables which contains the numeric whole numbers means without decimal point, called as int type variable.\n",
    "    3. float : If the variables which contains the numeric numbers with decimal points, called as float type variable.\n",
    "    \n",
    "    \n",
    "    "
   ]
  },
  {
   "cell_type": "markdown",
   "id": "e410b97d",
   "metadata": {},
   "source": [
    "# 4. What is an expression made up of? What do all expressions do?"
   ]
  },
  {
   "cell_type": "markdown",
   "id": "93fdf64a",
   "metadata": {},
   "source": [
    "1. Expression is made up of operators and variables\n",
    "2. Expreesions does the operations like addition ,substraction,multiplication and division"
   ]
  },
  {
   "cell_type": "markdown",
   "id": "2479ab32",
   "metadata": {},
   "source": [
    "# 5. This assignment statements, like spam = 10. What is the difference between an expression and a statement?"
   ]
  },
  {
   "cell_type": "markdown",
   "id": "66cac797",
   "metadata": {},
   "source": [
    "1. The expression is made up of operators,variables.By using expression we are able to do some manipultions on data.\n",
    "2. Statement is like command which python interpreter are excutes"
   ]
  },
  {
   "cell_type": "markdown",
   "id": "500593ab",
   "metadata": {},
   "source": [
    "# 6. After running the following code, what does the variable bacon contain?\n",
    "bacon = 22\n",
    "\n",
    "\n",
    "bacon + 1\n"
   ]
  },
  {
   "cell_type": "markdown",
   "id": "85031258",
   "metadata": {},
   "source": [
    "Answer:   After running the following code ,the variable bacon contains 22."
   ]
  },
  {
   "cell_type": "markdown",
   "id": "3dddd089",
   "metadata": {},
   "source": [
    "# 7. What should the values of the following two terms be?\n",
    "'spam' + 'spamspam'\n",
    "\n",
    "\n",
    "'spam' * 3\n"
   ]
  },
  {
   "cell_type": "markdown",
   "id": "b32903a9",
   "metadata": {},
   "source": [
    "Answer:        'spam' + 'spamspam' will be  'spamspamspam'\n",
    "\n",
    "\n",
    "               'spam' * 3  will be 'spamspamspam'"
   ]
  },
  {
   "cell_type": "markdown",
   "id": "bda4221e",
   "metadata": {},
   "source": [
    "\n",
    "# 8. Why is eggs a valid variable name while 100 is invalid?"
   ]
  },
  {
   "cell_type": "markdown",
   "id": "b1655253",
   "metadata": {},
   "source": [
    "Answer:   Varible name should not start with digits so 100 is invalid."
   ]
  },
  {
   "cell_type": "markdown",
   "id": "0ef6ca3e",
   "metadata": {},
   "source": [
    "# 9. What three functions can be used to get the integer, floating-point number, or string version of a value?"
   ]
  },
  {
   "cell_type": "markdown",
   "id": "7b9be9d9",
   "metadata": {},
   "source": [
    "Use int(), float() and str()"
   ]
  },
  {
   "cell_type": "markdown",
   "id": "36ec1e18",
   "metadata": {},
   "source": [
    "# 10. Why does this expression cause an error? How can you fix it?\n",
    "'I have eaten ' + 99 + ' burritos.'\n"
   ]
  },
  {
   "cell_type": "code",
   "execution_count": 6,
   "id": "904b102f",
   "metadata": {},
   "outputs": [
    {
     "ename": "TypeError",
     "evalue": "can only concatenate str (not \"int\") to str",
     "output_type": "error",
     "traceback": [
      "\u001b[1;31m---------------------------------------------------------------------------\u001b[0m",
      "\u001b[1;31mTypeError\u001b[0m                                 Traceback (most recent call last)",
      "\u001b[1;32m~\\AppData\\Local\\Temp/ipykernel_8748/1774935878.py\u001b[0m in \u001b[0;36m<module>\u001b[1;34m\u001b[0m\n\u001b[1;32m----> 1\u001b[1;33m \u001b[1;34m'I have eaten '\u001b[0m \u001b[1;33m+\u001b[0m \u001b[1;36m99\u001b[0m \u001b[1;33m+\u001b[0m \u001b[1;34m' burritos.'\u001b[0m\u001b[1;33m\u001b[0m\u001b[1;33m\u001b[0m\u001b[0m\n\u001b[0m",
      "\u001b[1;31mTypeError\u001b[0m: can only concatenate str (not \"int\") to str"
     ]
    }
   ],
   "source": [
    "'I have eaten ' + 99 + ' burritos.'"
   ]
  },
  {
   "cell_type": "code",
   "execution_count": 8,
   "id": "1e6b79a7",
   "metadata": {},
   "outputs": [
    {
     "data": {
      "text/plain": [
       "'I have eaten 99 burritos.'"
      ]
     },
     "execution_count": 8,
     "metadata": {},
     "output_type": "execute_result"
    }
   ],
   "source": [
    "'I have eaten ' + '99' + ' burritos.'"
   ]
  },
  {
   "cell_type": "markdown",
   "id": "86d22316",
   "metadata": {},
   "source": [
    "we can write 'I have eaten ' + '99' + ' burritos.'"
   ]
  }
 ],
 "metadata": {
  "kernelspec": {
   "display_name": "Python 3 (ipykernel)",
   "language": "python",
   "name": "python3"
  },
  "language_info": {
   "codemirror_mode": {
    "name": "ipython",
    "version": 3
   },
   "file_extension": ".py",
   "mimetype": "text/x-python",
   "name": "python",
   "nbconvert_exporter": "python",
   "pygments_lexer": "ipython3",
   "version": "3.9.7"
  }
 },
 "nbformat": 4,
 "nbformat_minor": 5
}
