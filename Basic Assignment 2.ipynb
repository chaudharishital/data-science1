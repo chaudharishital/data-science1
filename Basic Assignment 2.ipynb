{
 "cells": [
  {
   "cell_type": "markdown",
   "id": "98b80dd5",
   "metadata": {},
   "source": [
    "# 1. Write a Python program to convert kilometers to miles?"
   ]
  },
  {
   "cell_type": "code",
   "execution_count": 6,
   "id": "a00f6c0d",
   "metadata": {},
   "outputs": [
    {
     "name": "stdout",
     "output_type": "stream",
     "text": [
      "45\n",
      "45 Kilometers = 27.96165 miles\n"
     ]
    }
   ],
   "source": [
    "a=int(input( ))\n",
    "b=0.62137\n",
    "c=a*b\n",
    "print(a,\"Kilometers =\",c,\"miles\")"
   ]
  },
  {
   "cell_type": "markdown",
   "id": "dbbc3098",
   "metadata": {},
   "source": [
    "# 2. Write a Python program to convert Celsius to Fahrenheit?"
   ]
  },
  {
   "cell_type": "code",
   "execution_count": 8,
   "id": "c8900a1b",
   "metadata": {},
   "outputs": [
    {
     "name": "stdout",
     "output_type": "stream",
     "text": [
      "1\n",
      "1 Celcius= 33.8 Fahrenheit\n"
     ]
    }
   ],
   "source": [
    "a=int(input( ))\n",
    "b=9/5\n",
    "c=32\n",
    "d=a*b+c\n",
    "print(a,\"Celcius=\",d,\"Fahrenheit\")"
   ]
  },
  {
   "cell_type": "markdown",
   "id": "885c2cb3",
   "metadata": {},
   "source": [
    "# 3.\tWrite a Python program to display calendar?"
   ]
  },
  {
   "cell_type": "code",
   "execution_count": 10,
   "id": "01a1d3c4",
   "metadata": {},
   "outputs": [
    {
     "ename": "ModuleNotFoundError",
     "evalue": "No module named 'calender'",
     "output_type": "error",
     "traceback": [
      "\u001b[1;31m---------------------------------------------------------------------------\u001b[0m",
      "\u001b[1;31mModuleNotFoundError\u001b[0m                       Traceback (most recent call last)",
      "\u001b[1;32m~\\AppData\\Local\\Temp/ipykernel_13480/1382648007.py\u001b[0m in \u001b[0;36m<module>\u001b[1;34m\u001b[0m\n\u001b[1;32m----> 1\u001b[1;33m \u001b[1;32mimport\u001b[0m \u001b[0mcalender\u001b[0m\u001b[1;33m\u001b[0m\u001b[1;33m\u001b[0m\u001b[0m\n\u001b[0m\u001b[0;32m      2\u001b[0m \u001b[0ma\u001b[0m\u001b[1;33m=\u001b[0m\u001b[0mint\u001b[0m\u001b[1;33m(\u001b[0m\u001b[0minput\u001b[0m\u001b[1;33m(\u001b[0m\u001b[1;34m\"Enter the Year:\"\u001b[0m\u001b[1;33m)\u001b[0m\u001b[1;33m)\u001b[0m\u001b[1;33m\u001b[0m\u001b[1;33m\u001b[0m\u001b[0m\n\u001b[0;32m      3\u001b[0m \u001b[0mb\u001b[0m\u001b[1;33m=\u001b[0m\u001b[0mint\u001b[0m\u001b[1;33m(\u001b[0m\u001b[0minput\u001b[0m\u001b[1;33m(\u001b[0m\u001b[1;34m\"Enter the Month:\"\u001b[0m\u001b[1;33m)\u001b[0m\u001b[1;33m)\u001b[0m\u001b[1;33m\u001b[0m\u001b[1;33m\u001b[0m\u001b[0m\n\u001b[0;32m      4\u001b[0m \u001b[0mcalender\u001b[0m\u001b[1;33m.\u001b[0m\u001b[0mmonth\u001b[0m\u001b[1;33m(\u001b[0m\u001b[0ma\u001b[0m\u001b[1;33m,\u001b[0m\u001b[0mb\u001b[0m\u001b[1;33m)\u001b[0m\u001b[1;33m\u001b[0m\u001b[1;33m\u001b[0m\u001b[0m\n",
      "\u001b[1;31mModuleNotFoundError\u001b[0m: No module named 'calender'"
     ]
    }
   ],
   "source": [
    "import calendar\n",
    "a=int(input(\"Enter the Year:\"))\n",
    "b=int(input(\"Enter the Month:\"))\n",
    "calendar.month(a,b)"
   ]
  },
  {
   "cell_type": "code",
   "execution_count": 13,
   "id": "03fcdddb",
   "metadata": {},
   "outputs": [
    {
     "name": "stderr",
     "output_type": "stream",
     "text": [
      "ERROR: Could not find a version that satisfies the requirement calendar (from versions: none)\n",
      "ERROR: No matching distribution found for calendar\n"
     ]
    }
   ],
   "source": [
    "!pip install calendar"
   ]
  },
  {
   "cell_type": "markdown",
   "id": "f823efb3",
   "metadata": {},
   "source": [
    "# 4.\tWrite a Python program to solve quadratic equation?"
   ]
  },
  {
   "cell_type": "code",
   "execution_count": 20,
   "id": "0a528f42",
   "metadata": {},
   "outputs": [
    {
     "name": "stdout",
     "output_type": "stream",
     "text": [
      "Enter the value of coefficient of X2 1\n",
      "Enter the value of coefficient of X 5\n",
      "Enter the value of Constant 6\n",
      "-2.0 , -3.0\n"
     ]
    }
   ],
   "source": [
    "import math\n",
    "a=int(input(\"Enter the value of coefficient of X2 \"))\n",
    "b=int(input(\"Enter the value of coefficient of X \"))\n",
    "c=int(input(\"Enter the value of Constant \"))\n",
    "delta=(b*b)-(4*a*c)\n",
    "x=-b+math.sqrt(delta)\n",
    "y=-b-math.sqrt(delta)\n",
    "x1=x/2*a\n",
    "x2=y/2*a\n",
    "print(x1,\",\",x2)\n",
    "\n"
   ]
  },
  {
   "cell_type": "markdown",
   "id": "d61e2148",
   "metadata": {},
   "source": [
    "# 5.\tWrite a Python program to swap two variables without temp variable?"
   ]
  },
  {
   "cell_type": "code",
   "execution_count": 21,
   "id": "77b2b87a",
   "metadata": {},
   "outputs": [
    {
     "name": "stdout",
     "output_type": "stream",
     "text": [
      "10\n",
      "20\n",
      "Before Swapping a: 10 b: 20\n",
      "After Swapping a: 20 b: 10\n"
     ]
    }
   ],
   "source": [
    "a=int(input( ))\n",
    "b=int(input( ))\n",
    "print(\"Before Swapping a:\",a,\"b:\",b)\n",
    "a=a+b\n",
    "b=a-b\n",
    "a=a-b\n",
    "print(\"After Swapping a:\",a,\"b:\",b)"
   ]
  },
  {
   "cell_type": "code",
   "execution_count": null,
   "id": "6b3c619b",
   "metadata": {},
   "outputs": [],
   "source": []
  }
 ],
 "metadata": {
  "kernelspec": {
   "display_name": "Python 3 (ipykernel)",
   "language": "python",
   "name": "python3"
  },
  "language_info": {
   "codemirror_mode": {
    "name": "ipython",
    "version": 3
   },
   "file_extension": ".py",
   "mimetype": "text/x-python",
   "name": "python",
   "nbconvert_exporter": "python",
   "pygments_lexer": "ipython3",
   "version": "3.9.7"
  }
 },
 "nbformat": 4,
 "nbformat_minor": 5
}
