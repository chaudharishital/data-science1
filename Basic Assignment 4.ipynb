{
 "cells": [
  {
   "cell_type": "markdown",
   "id": "99fcff9c",
   "metadata": {},
   "source": [
    "# 1. Write a Python Program to Find the Factorial of a Number?"
   ]
  },
  {
   "cell_type": "code",
   "execution_count": 1,
   "id": "aae0d6a8",
   "metadata": {},
   "outputs": [
    {
     "name": "stdout",
     "output_type": "stream",
     "text": [
      "6\n",
      "Factorial of 6 is [1, 2, 3]\n"
     ]
    }
   ],
   "source": [
    "a=int(input())\n",
    "list1=[]\n",
    "for i in range(1,(a//2+1)):\n",
    "    if(a%i==0):\n",
    "        list1.append(i)\n",
    "print(\"Factorial of {0} is {1}\".format(a,list1))"
   ]
  },
  {
   "cell_type": "code",
   "execution_count": 2,
   "id": "e31e0983",
   "metadata": {},
   "outputs": [
    {
     "name": "stdout",
     "output_type": "stream",
     "text": [
      "45\n",
      "Factorial of 45 is [1, 3, 5, 9, 15]\n"
     ]
    }
   ],
   "source": [
    "a=int(input())\n",
    "list1=[]\n",
    "for i in range(1,(a//2+1)):\n",
    "    if(a%i==0):\n",
    "        list1.append(i)\n",
    "print(\"Factorial of {0} is {1}\".format(a,list1))"
   ]
  },
  {
   "cell_type": "markdown",
   "id": "9afd9cf9",
   "metadata": {},
   "source": [
    "# 2. Write a Python Program to Display the multiplication Table?"
   ]
  },
  {
   "cell_type": "code",
   "execution_count": 6,
   "id": "348140a1",
   "metadata": {},
   "outputs": [
    {
     "name": "stdout",
     "output_type": "stream",
     "text": [
      "Enter the number of which you want a multiplication table:5\n",
      "a * 1 = 5\n",
      "a * 2 = 10\n",
      "a * 3 = 15\n",
      "a * 4 = 20\n",
      "a * 5 = 25\n",
      "a * 6 = 30\n",
      "a * 7 = 35\n",
      "a * 8 = 40\n",
      "a * 9 = 45\n",
      "a * 10 = 50\n"
     ]
    }
   ],
   "source": [
    "a=int(input(\"Enter the number of which you want a multiplication table:\"))\n",
    "for i in range(1,11):\n",
    "    print(\"a * {0} = {1}\".format(i,a*i))"
   ]
  },
  {
   "cell_type": "code",
   "execution_count": 4,
   "id": "ac0646cf",
   "metadata": {},
   "outputs": [
    {
     "name": "stdout",
     "output_type": "stream",
     "text": [
      "Enter the number of which you want a multiplication table:14\n",
      "a * 1 = 14\n",
      "a * 2 = 28\n",
      "a * 3 = 42\n",
      "a * 4 = 56\n",
      "a * 5 = 70\n",
      "a * 6 = 84\n",
      "a * 7 = 98\n",
      "a * 8 = 112\n",
      "a * 9 = 126\n",
      "a * 10 = 140\n"
     ]
    }
   ],
   "source": [
    "a=int(input(\"Enter the number of which you want a multiplication table:\"))\n",
    "for i in range(1,11):\n",
    "    print(\"a * {0} = {1}\".format(i,a*i))"
   ]
  },
  {
   "cell_type": "markdown",
   "id": "d4af8f67",
   "metadata": {},
   "source": [
    "# 3. Write a Python Program to Print the Fibonacci sequence?"
   ]
  },
  {
   "cell_type": "code",
   "execution_count": 7,
   "id": "35e57cbd",
   "metadata": {},
   "outputs": [
    {
     "name": "stdout",
     "output_type": "stream",
     "text": [
      "Enter the number of which you want a Fibonacci Series:5\n",
      "1\n",
      "1\n",
      "2\n",
      "3\n",
      "5\n",
      "8\n",
      "13\n"
     ]
    }
   ],
   "source": [
    "x=int(input(\"Enter the number of which you want a Fibonacci Series:\"))\n",
    "a=1\n",
    "b=1\n",
    "print(a)\n",
    "for i in range(x+1):\n",
    "    print(a)\n",
    "         \n",
    "    b,a=a,a+b  "
   ]
  },
  {
   "cell_type": "markdown",
   "id": "acd34327",
   "metadata": {},
   "source": [
    "# 4.\tWrite a Python Program to Check Armstrong Number?"
   ]
  },
  {
   "cell_type": "code",
   "execution_count": 35,
   "id": "6d69e693",
   "metadata": {},
   "outputs": [
    {
     "name": "stdout",
     "output_type": "stream",
     "text": [
      "Enter the number to check is it Armstrong number or not:153\n",
      "153 is Armstrong Number\n"
     ]
    }
   ],
   "source": [
    "import math\n",
    "num=int(input(\"Enter the number to check is it Armstrong number or not:\"))\n",
    "count=0\n",
    "sum=0\n",
    "len1=0\n",
    "x=num\n",
    "while(x!=0):\n",
    "    x=x//10\n",
    "    count=count+1\n",
    "\n",
    "y=num\n",
    "while(y!=0):\n",
    "        z=y%10\n",
    "        sum=sum+math.pow(z,count)\n",
    "        y=y//10\n",
    "if(num==sum):\n",
    "    print(\"{0} is Armstrong Number\".format(num))\n",
    "else:\n",
    "    print(\"{0} is not an Armstrong Number\".format(num)) "
   ]
  },
  {
   "cell_type": "code",
   "execution_count": 36,
   "id": "af71e7fc",
   "metadata": {},
   "outputs": [
    {
     "name": "stdout",
     "output_type": "stream",
     "text": [
      "Enter the number to check is it Armstrong number or not:25\n",
      "25 is not an Armstrong Number\n"
     ]
    }
   ],
   "source": [
    "import math\n",
    "num=int(input(\"Enter the number to check is it Armstrong number or not:\"))\n",
    "count=0\n",
    "sum=0\n",
    "len1=0\n",
    "x=num\n",
    "while(x!=0):\n",
    "    x=x//10\n",
    "    count=count+1\n",
    "\n",
    "y=num\n",
    "while(y!=0):\n",
    "        z=y%10\n",
    "        sum=sum+math.pow(z,count)\n",
    "        y=y//10\n",
    "if(num==sum):\n",
    "    print(\"{0} is Armstrong Number\".format(num))\n",
    "else:\n",
    "    print(\"{0} is not an Armstrong Number\".format(num)) "
   ]
  },
  {
   "cell_type": "markdown",
   "id": "c7fbd7bb",
   "metadata": {},
   "source": [
    "# 5. Write a Python Program to Find Armstrong Number in an Interval?"
   ]
  },
  {
   "cell_type": "code",
   "execution_count": 57,
   "id": "069cfce4",
   "metadata": {},
   "outputs": [
    {
     "name": "stdout",
     "output_type": "stream",
     "text": [
      "Enter the starting number to check is it Armstrong number or not:1\n",
      "Enter the last number to check is it Armstrong number or not:407\n",
      "[1, 2, 3, 4, 5, 6, 7, 8, 9, 153, 370, 371, 407]\n"
     ]
    }
   ],
   "source": [
    "import math\n",
    "num1=int(input(\"Enter the starting number to check is it Armstrong number or not:\"))\n",
    "num2=int(input(\"Enter the last number to check is it Armstrong number or not:\"))\n",
    "list1=[]\n",
    "for i in range(num1,num2+1):\n",
    "    count=0\n",
    "    sum=0\n",
    "    len1=0  \n",
    "    x=i\n",
    "    while(x!=0):\n",
    "        x=x//10\n",
    "        count=count+1\n",
    "    \n",
    "\n",
    "    y=i\n",
    "    while(y!=0):\n",
    "        z=y%10\n",
    "        sum=sum+math.pow(z,count)\n",
    "        y=y//10\n",
    "    if(i==sum):\n",
    "        list1.append(i)\n",
    "    else:\n",
    "        pass\n",
    "print(list1)"
   ]
  },
  {
   "cell_type": "markdown",
   "id": "5939f9f9",
   "metadata": {},
   "source": [
    "# 6.\tWrite a Python Program to Find the Sum of Natural Numbers?"
   ]
  },
  {
   "cell_type": "code",
   "execution_count": 39,
   "id": "36734f99",
   "metadata": {},
   "outputs": [
    {
     "name": "stdout",
     "output_type": "stream",
     "text": [
      "10\n",
      "sum of first 10 numbers is 55\n"
     ]
    }
   ],
   "source": [
    "a=int(input())\n",
    "sum=0\n",
    "for i in range(a+1):\n",
    "    sum=sum+i\n",
    "print(\"sum of first {0} numbers is {1}\".format(a,sum))"
   ]
  },
  {
   "cell_type": "code",
   "execution_count": 40,
   "id": "95fac120",
   "metadata": {},
   "outputs": [
    {
     "name": "stdout",
     "output_type": "stream",
     "text": [
      "20\n",
      "sum of first 20 numbers is 210\n"
     ]
    }
   ],
   "source": [
    "a=int(input())\n",
    "sum=0\n",
    "for i in range(a+1):\n",
    "    sum=sum+i\n",
    "print(\"sum of first {0} numbers is {1}\".format(a,sum))"
   ]
  },
  {
   "cell_type": "code",
   "execution_count": 48,
   "id": "8f99e3b7",
   "metadata": {},
   "outputs": [
    {
     "name": "stdout",
     "output_type": "stream",
     "text": [
      "1\n",
      "2\n"
     ]
    }
   ],
   "source": [
    "x=25 \n",
    "count=0\n",
    "while(x!=0):\n",
    "        x=x//10\n",
    "        count=count+1\n",
    "        print(count)"
   ]
  }
 ],
 "metadata": {
  "kernelspec": {
   "display_name": "Python 3 (ipykernel)",
   "language": "python",
   "name": "python3"
  },
  "language_info": {
   "codemirror_mode": {
    "name": "ipython",
    "version": 3
   },
   "file_extension": ".py",
   "mimetype": "text/x-python",
   "name": "python",
   "nbconvert_exporter": "python",
   "pygments_lexer": "ipython3",
   "version": "3.9.7"
  }
 },
 "nbformat": 4,
 "nbformat_minor": 5
}
